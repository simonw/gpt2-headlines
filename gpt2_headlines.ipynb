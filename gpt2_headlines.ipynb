{
  "nbformat": 4,
  "nbformat_minor": 0,
  "metadata": {
    "colab": {
      "provenance": []
    },
    "kernelspec": {
      "name": "python3",
      "display_name": "Python 3"
    },
    "accelerator": "GPU"
  },
  "cells": [
    {
      "cell_type": "code",
      "metadata": {
        "id": "U_cZ4-4qgODW",
        "outputId": "63266ae5-f3f9-422e-bcf1-c01d4442639f",
        "colab": {
          "base_uri": "https://localhost:8080/",
          "height": 340
        }
      },
      "source": [
        "!pip3 install gpt-2-simple"
      ],
      "execution_count": null,
      "outputs": [
        {
          "output_type": "stream",
          "text": [
            "Collecting gpt-2-simple\n",
            "  Downloading https://files.pythonhosted.org/packages/6f/e4/a90add0c3328eed38a46c3ed137f2363b5d6a07bf13ee5d5d4d1e480b8c3/gpt_2_simple-0.7.1.tar.gz\n",
            "Requirement already satisfied: regex in /usr/local/lib/python3.6/dist-packages (from gpt-2-simple) (2019.12.20)\n",
            "Requirement already satisfied: requests in /usr/local/lib/python3.6/dist-packages (from gpt-2-simple) (2.21.0)\n",
            "Requirement already satisfied: tqdm in /usr/local/lib/python3.6/dist-packages (from gpt-2-simple) (4.28.1)\n",
            "Requirement already satisfied: numpy in /usr/local/lib/python3.6/dist-packages (from gpt-2-simple) (1.17.5)\n",
            "Collecting toposort\n",
            "  Downloading https://files.pythonhosted.org/packages/e9/8a/321cd8ea5f4a22a06e3ba30ef31ec33bea11a3443eeb1d89807640ee6ed4/toposort-1.5-py2.py3-none-any.whl\n",
            "Requirement already satisfied: chardet<3.1.0,>=3.0.2 in /usr/local/lib/python3.6/dist-packages (from requests->gpt-2-simple) (3.0.4)\n",
            "Requirement already satisfied: urllib3<1.25,>=1.21.1 in /usr/local/lib/python3.6/dist-packages (from requests->gpt-2-simple) (1.24.3)\n",
            "Requirement already satisfied: certifi>=2017.4.17 in /usr/local/lib/python3.6/dist-packages (from requests->gpt-2-simple) (2019.11.28)\n",
            "Requirement already satisfied: idna<2.9,>=2.5 in /usr/local/lib/python3.6/dist-packages (from requests->gpt-2-simple) (2.8)\n",
            "Building wheels for collected packages: gpt-2-simple\n",
            "  Building wheel for gpt-2-simple (setup.py) ... \u001b[?25l\u001b[?25hdone\n",
            "  Created wheel for gpt-2-simple: filename=gpt_2_simple-0.7.1-cp36-none-any.whl size=23580 sha256=f9c8e3eacbb5d498b7a4317dac765bd972c7a28785bff4a2765bf9d144542988\n",
            "  Stored in directory: /root/.cache/pip/wheels/0c/f8/23/b53ce437504597edff76bf9c3b8de08ad716f74f6c6baaa91a\n",
            "Successfully built gpt-2-simple\n",
            "Installing collected packages: toposort, gpt-2-simple\n",
            "Successfully installed gpt-2-simple-0.7.1 toposort-1.5\n"
          ],
          "name": "stdout"
        }
      ]
    },
    {
      "cell_type": "markdown",
      "metadata": {
        "id": "qfbwLPPigYIx"
      },
      "source": [
        "# https://github.com/minimaxir/gpt-2-simple"
      ]
    },
    {
      "cell_type": "code",
      "metadata": {
        "id": "15BnLKQRgctl",
        "outputId": "5e26fea6-35e9-4152-d523-168744d5a2dc",
        "colab": {
          "base_uri": "https://localhost:8080/",
          "height": 1000
        }
      },
      "source": [
        "import gpt_2_simple as gpt2\n",
        "import os\n",
        "import requests\n",
        "\n",
        "model_name = \"124M\"\n",
        "if not os.path.isdir(os.path.join(\"models\", model_name)):\n",
        "\tprint(f\"Downloading {model_name} model...\")\n",
        "\tgpt2.download_gpt2(model_name=model_name)   # model is saved into current directory under /models/124M/\n",
        "\n",
        "\n",
        "file_name = \"nytimes-headlines-1980s.txt\"\n",
        "if not os.path.isfile(file_name):\n",
        "\turl = \"https://static.simonwillison.net/static/2020/nytimes-headlines-1980s.txt\"\n",
        "\tdata = requests.get(url)\n",
        "\twith open(file_name, 'w') as f:\n",
        "\t\tf.write(data.text)\n",
        "\n",
        "\n",
        "sess = gpt2.start_tf_sess()\n",
        "gpt2.finetune(sess,\n",
        "              file_name,\n",
        "              model_name=model_name,\n",
        "              steps=100)   # steps is max number of training steps\n",
        "\n",
        "gpt2.generate(sess)\n"
      ],
      "execution_count": null,
      "outputs": [
        {
          "output_type": "display_data",
          "data": {
            "text/html": [
              "<p style=\"color: red;\">\n",
              "The default version of TensorFlow in Colab will soon switch to TensorFlow 2.x.<br>\n",
              "We recommend you <a href=\"https://www.tensorflow.org/guide/migrate\" target=\"_blank\">upgrade</a> now \n",
              "or ensure your notebook will continue to use TensorFlow 1.x via the <code>%tensorflow_version 1.x</code> magic:\n",
              "<a href=\"https://colab.research.google.com/notebooks/tensorflow_version.ipynb\" target=\"_blank\">more info</a>.</p>\n"
            ],
            "text/plain": [
              "<IPython.core.display.HTML object>"
            ]
          },
          "metadata": {
            "tags": []
          }
        },
        {
          "output_type": "stream",
          "text": [
            "WARNING:tensorflow:\n",
            "The TensorFlow contrib module will not be included in TensorFlow 2.0.\n",
            "For more information, please see:\n",
            "  * https://github.com/tensorflow/community/blob/master/rfcs/20180907-contrib-sunset.md\n",
            "  * https://github.com/tensorflow/addons\n",
            "  * https://github.com/tensorflow/io (for I/O related ops)\n",
            "If you depend on functionality not listed there, please file an issue.\n",
            "\n",
            "WARNING:tensorflow:From /usr/local/lib/python3.6/dist-packages/gpt_2_simple/src/sample.py:17: where (from tensorflow.python.ops.array_ops) is deprecated and will be removed in a future version.\n",
            "Instructions for updating:\n",
            "Use tf.where in 2.0, which has the same broadcast rule as np.where\n",
            "Loading checkpoint models/124M/model.ckpt\n",
            "INFO:tensorflow:Restoring parameters from models/124M/model.ckpt\n"
          ],
          "name": "stdout"
        },
        {
          "output_type": "stream",
          "text": [
            "\r  0%|          | 0/1 [00:00<?, ?it/s]"
          ],
          "name": "stderr"
        },
        {
          "output_type": "stream",
          "text": [
            "Loading dataset...\n"
          ],
          "name": "stdout"
        },
        {
          "output_type": "stream",
          "text": [
            "\r100%|██████████| 1/1 [01:05<00:00, 65.44s/it]\n"
          ],
          "name": "stderr"
        },
        {
          "output_type": "stream",
          "text": [
            "dataset has 15385043 tokens\n",
            "Training...\n",
            "[1 | 7.15] loss=4.34 avg=4.34\n",
            "[2 | 9.27] loss=4.26 avg=4.30\n",
            "[3 | 11.39] loss=3.76 avg=4.12\n",
            "[4 | 13.53] loss=3.79 avg=4.03\n",
            "[5 | 15.67] loss=3.99 avg=4.02\n",
            "[6 | 17.82] loss=3.91 avg=4.01\n",
            "[7 | 19.97] loss=4.20 avg=4.03\n",
            "[8 | 22.12] loss=3.47 avg=3.96\n",
            "[9 | 24.27] loss=3.92 avg=3.96\n",
            "[10 | 26.42] loss=4.11 avg=3.97\n",
            "[11 | 28.58] loss=3.95 avg=3.97\n",
            "[12 | 30.73] loss=3.77 avg=3.95\n",
            "[13 | 32.89] loss=4.07 avg=3.96\n",
            "[14 | 35.05] loss=4.05 avg=3.97\n",
            "[15 | 37.20] loss=4.27 avg=3.99\n",
            "[16 | 39.37] loss=4.11 avg=4.00\n",
            "[17 | 41.53] loss=3.81 avg=3.99\n",
            "[18 | 43.70] loss=4.36 avg=4.01\n",
            "[19 | 45.87] loss=3.87 avg=4.00\n",
            "[20 | 48.05] loss=3.96 avg=4.00\n",
            "[21 | 50.23] loss=3.43 avg=3.97\n",
            "[22 | 52.41] loss=3.98 avg=3.97\n",
            "[23 | 54.59] loss=3.80 avg=3.96\n",
            "[24 | 56.78] loss=4.05 avg=3.97\n",
            "[25 | 58.97] loss=3.83 avg=3.96\n",
            "[26 | 61.16] loss=4.28 avg=3.97\n",
            "[27 | 63.35] loss=4.03 avg=3.98\n",
            "[28 | 65.55] loss=3.65 avg=3.96\n",
            "[29 | 67.74] loss=3.65 avg=3.95\n",
            "[30 | 69.94] loss=4.03 avg=3.95\n",
            "[31 | 72.14] loss=3.70 avg=3.94\n",
            "[32 | 74.34] loss=3.69 avg=3.93\n",
            "[33 | 76.55] loss=3.74 avg=3.93\n",
            "[34 | 78.75] loss=3.96 avg=3.93\n",
            "[35 | 80.96] loss=4.08 avg=3.93\n",
            "[36 | 83.18] loss=3.93 avg=3.93\n",
            "[37 | 85.39] loss=3.82 avg=3.93\n",
            "[38 | 87.61] loss=3.89 avg=3.93\n",
            "[39 | 89.84] loss=3.94 avg=3.93\n",
            "[40 | 92.07] loss=3.45 avg=3.91\n",
            "[41 | 94.31] loss=4.19 avg=3.92\n",
            "[42 | 96.54] loss=4.22 avg=3.93\n",
            "[43 | 98.77] loss=3.70 avg=3.92\n",
            "[44 | 101.01] loss=3.87 avg=3.92\n",
            "[45 | 103.26] loss=3.59 avg=3.91\n",
            "[46 | 105.51] loss=4.08 avg=3.92\n",
            "[47 | 107.76] loss=3.66 avg=3.91\n",
            "[48 | 110.01] loss=3.85 avg=3.91\n",
            "[49 | 112.28] loss=3.82 avg=3.91\n",
            "[50 | 114.54] loss=3.48 avg=3.90\n",
            "[51 | 116.81] loss=3.83 avg=3.90\n",
            "[52 | 119.08] loss=3.85 avg=3.89\n",
            "[53 | 121.35] loss=3.38 avg=3.88\n",
            "[54 | 123.62] loss=3.35 avg=3.87\n",
            "[55 | 125.90] loss=3.35 avg=3.86\n",
            "[56 | 128.18] loss=3.95 avg=3.86\n",
            "[57 | 130.47] loss=3.72 avg=3.86\n",
            "[58 | 132.74] loss=3.46 avg=3.85\n",
            "[59 | 135.02] loss=3.49 avg=3.84\n",
            "[60 | 137.30] loss=3.53 avg=3.83\n",
            "[61 | 139.59] loss=3.34 avg=3.82\n",
            "[62 | 141.87] loss=3.59 avg=3.82\n",
            "[63 | 144.14] loss=3.35 avg=3.81\n",
            "[64 | 146.41] loss=3.62 avg=3.80\n",
            "[65 | 148.69] loss=3.83 avg=3.80\n",
            "[66 | 150.96] loss=3.64 avg=3.80\n",
            "[67 | 153.23] loss=3.49 avg=3.79\n",
            "[68 | 155.50] loss=3.70 avg=3.79\n",
            "[69 | 157.75] loss=3.54 avg=3.79\n",
            "[70 | 160.01] loss=4.33 avg=3.80\n",
            "[71 | 162.27] loss=3.80 avg=3.80\n",
            "[72 | 164.53] loss=3.82 avg=3.80\n",
            "[73 | 166.79] loss=3.75 avg=3.80\n",
            "[74 | 169.05] loss=3.66 avg=3.79\n",
            "[75 | 171.31] loss=3.76 avg=3.79\n",
            "[76 | 173.56] loss=4.01 avg=3.80\n",
            "[77 | 175.82] loss=3.77 avg=3.80\n",
            "[78 | 178.08] loss=4.03 avg=3.80\n",
            "[79 | 180.34] loss=3.71 avg=3.80\n",
            "[80 | 182.60] loss=3.29 avg=3.79\n",
            "[81 | 184.87] loss=3.08 avg=3.78\n",
            "[82 | 187.14] loss=3.69 avg=3.78\n",
            "[83 | 189.41] loss=3.84 avg=3.78\n",
            "[84 | 191.67] loss=3.55 avg=3.77\n",
            "[85 | 193.93] loss=3.58 avg=3.77\n",
            "[86 | 196.20] loss=3.67 avg=3.77\n",
            "[87 | 198.47] loss=3.61 avg=3.77\n",
            "[88 | 200.74] loss=3.56 avg=3.76\n",
            "[89 | 203.01] loss=3.85 avg=3.76\n",
            "[90 | 205.27] loss=4.03 avg=3.77\n",
            "[91 | 207.55] loss=3.41 avg=3.76\n",
            "[92 | 209.82] loss=3.84 avg=3.76\n",
            "[93 | 212.10] loss=3.47 avg=3.76\n",
            "[94 | 214.36] loss=3.78 avg=3.76\n",
            "[95 | 216.63] loss=3.46 avg=3.75\n",
            "[96 | 218.90] loss=3.73 avg=3.75\n",
            "[97 | 221.17] loss=3.75 avg=3.75\n",
            "[98 | 223.44] loss=3.65 avg=3.75\n",
            "[99 | 225.71] loss=4.18 avg=3.76\n",
            "[100 | 227.97] loss=3.32 avg=3.75\n",
            "Saving checkpoint/run1/model-100\n",
            "Amanda Markowitz Debuts in ABC's 'Pope's' Design\n",
            "Plane Kills Three People near Apartment\n",
            "CAMPAIGNS\n",
            "NEW YORK DAY BY DAY\n",
            "CAMPAIGNS\n",
            "A Man in Manhattan Is Wed To an American\n",
            "This Week in the News\n",
            "CITY MUSEUM\n",
            "Aquino Sees New Bet on Alligator\n",
            "LIFE IN THE PAST\n",
            "BRIEFS\n",
            "PUSSY OPENING THE RUMOR\n",
            "MUSIC: 'Plane'\n",
            "NATIONAL MARKETING IN AUTO\n",
            "SCALE\n",
            "A VERDICT OF the Old Boys\n",
            "New York Times Columnist\n",
            "MUSIC: 'Plane,'\n",
            "CONCERT: THE CITY\n",
            "SCHOOLS\n",
            "BRIEFS\n",
            "MAKING A CAUSE\n",
            "Economic Outlook\n",
            "BRIEFS\n",
            "BOOKS OF THE TIMES\n",
            "Reagan Drops His New-Age Plan\n",
            "Jury Quits Weapons Trial in Van Dam High Court\n",
            "PRINCETON SCANDALS\n",
            "AUDITORS FOR WOMEN COMPETITIVE\n",
            "TWO SECRETARY'S RATES CITED IN CONVENTIONAL COURT\n",
            "Hudson-Sickman Case Is Told to Contaminate\n",
            "'THE SERIES' IS A HARD NIGHT\n",
            "BRIEFS\n",
            "SUNDAY SPORTS\n",
            "AS AN INVESTOR, VICTORY IS TAKEN\n",
            "Obituary 6 -- No Title\n",
            "ISRAELI CUP FINAL DIVIDED\n",
            "IN TRADE, THE BUDGET IS BEHIND THE RULING OF ABOVE\n",
            "F.B.I. OFFICIALS IN DIVIDED RESIST INDICATORS' ATTACK ON JEWISH PRISONER\n",
            "A NEW GOLF AREA IN CURBING THE ECONOMY\n",
            "DANCE: 'COURT OF THE FERGUSON\n",
            "Kurtis, Miller, Moore\n",
            "MUSEUM: 'Bunkles'\n",
            "WOMEN'S RENTALS ARE DISCONTINUED\n",
            "A NEW GUIDE TO PLAYING THE VENUE\n",
            "BRIDGE PENALTY IS SHOWN IN AUSTRALIA\n",
            "HIGH-RISK AIDE SAYS ISRAELIS WIN'\n",
            "VALLEY TRUCKS WON'T BE FACING EYE TO CHILDREN OF CHARTER\n",
            "MUSIC: 'Plane'\n",
            "A BOILER'S RISE OF ART IS WATCHED AT MANSFIELD\n",
            "THE FAMILY WINS ITS FIRST FIRETY\n",
            "NEW YORK DAY BY DAY\n",
            "The U.N. Today\n",
            "IDEAS FOR BRIDGE RENTALS\n",
            "Corrections\n",
            "WHEN MONEY IS A CHANGE\n",
            "U.S. TO MAKE HAMPS ON ALLIED FEDERAL CITIES\n",
            "GOLDEN DRIVING\n",
            "CREDITS TO BEGIN\n",
            "SUNDAY SPORTS\n",
            "KEY ACTS\n",
            "A BROADSIDE NATION ELSE\n",
            "Q&A\n",
            "NEW YORK DAY BY DAY\n",
            "U.S. CONSOLIDATED IN A TOWN TRADE WITH A VICTORY OF REAGAN'S LIKES\n",
            "THE SYSTEM FOR DRIVING THE WEATHER\n",
            "BRIEFS\n",
            "CABINET IN PLANT HOUSE\n",
            "FROM A $1 SUIT\n",
            "Hush-O-Meter\n",
            "JEWISH GROWTH IS CONTINUING TO THE CURB\n",
            "U.S. REPORTED TO BE DISMARKED FOR HOMES\n",
            "GOING OUT GUIDE\n",
            "TIMELINE FOR WEST'S JEWISH CLEAR\n",
            "The Rulings At the World\n",
            "FEDERAL AID FOR MUSEUM\n",
            "PROMOTING A PROBLEM FOR LOWER-STAGE CITIES\n",
            "COMMERCIAL MEDIA CALLS FOR ECLECTICALLY PARTICIPATING SCHOOLS\n",
            "JEWISH BRIEFS\n",
            "HELPFUL COURSES\n",
            "EXPECTED MARKETS\n",
            "SCOUTING\n",
            "EX-FEDERAL PRESIDENT IS REJECTED BY AFRICAN BID\n",
            "A NEW FETUS OF BANKTOWN RIGHTS\n",
            "A P.L.O. MANAGER FOR THE AGENTS OF THE PENALTY ARENA\n",
            "CIRCLE BABY BOUDDS A REVOLUTION\n",
            "BRIEFS\n",
            "MUSIC: 'Plane,'\n",
            "REBELS IN RUSSIA DECLINE\n",
            "UNION OF THE FEDERAL BID FOR A NEW RULING OF ABOVE AID FOR FEDERAL BID\n",
            "PROPOSED RIGHTS-PROBLEMS ACT TO BE DISMARKED\n",
            "BUSINESS\n",
            "ELECTRICITY IS UNITTY FOR MURDERERS IN U.S.\n",
            "THE WALL STATION IN TEXAS\n",
            "Violence Surrounds a Bus\n",
            "OUTSIDE'S NEW ENVIRON\n"
          ],
          "name": "stdout"
        }
      ]
    },
    {
      "cell_type": "code",
      "metadata": {
        "id": "tQ225ShR_F1h",
        "colab": {
          "base_uri": "https://localhost:8080/",
          "height": 187
        },
        "outputId": "d43e0ad2-dc4a-4556-b92c-6d96efb88dd0"
      },
      "source": [
        "gpt2.generate(sess, prefix=\"Disaster strikes in\", return_as_list=True, nsamples=10, length=20, include_prefix=True)"
      ],
      "execution_count": null,
      "outputs": [
        {
          "output_type": "execute_result",
          "data": {
            "text/plain": [
              "['Disaster strikes in Saudi Arabia\\nTIMES FOR CUTTERLY DISCOMMENDED\\nSEXIC AND',\n",
              " \"Disaster strikes in Java\\nSoviet-Japanese Threat Ruled\\nStoke's Ivanova Becomes a Wife of Major\",\n",
              " \"Disaster strikes in Pennsylvania and Hawaii\\nMISSING AND LEAVING\\nPENNSYLVANIA'\",\n",
              " 'Disaster strikes in Mexico\\nA New Era for Power In Texas\\nS.E.C. Rises to 21',\n",
              " 'Disaster strikes in Iran\\nU.S. TAKES A CRIME CLAIM FOR THE MUTUAL D',\n",
              " \"Disaster strikes in Philippines\\nAt the Statehouse, a Critique Of the Atlantic\\nA Civilian's Battle\\n\",\n",
              " 'Disaster strikes in the Philippines on the eve of a major construction work.\\n19.2% of U.S',\n",
              " \"Disaster strikes in Iran\\nRANGERS RECOMMEND MAIL BILLING\\nDANCE: 'W\",\n",
              " \"Disaster strikes in Tokyo\\n4 Dead in Crash Of a Cars Crash\\nJ.P. Morgan's Bill to Sell\",\n",
              " \"Disaster strikes in China\\nThe Little World\\nWEEKENDER\\nSO LONG AS YOU GET SOME\\nWHO'\"]"
            ]
          },
          "metadata": {
            "tags": []
          },
          "execution_count": 3
        }
      ]
    },
    {
      "cell_type": "code",
      "metadata": {
        "id": "TaDlS1J_ghjG",
        "outputId": "e2d1ef85-548c-46c3-d40e-573ee0fb55e7",
        "colab": {
          "base_uri": "https://localhost:8080/",
          "height": 187
        }
      },
      "source": [
        "gpt2.generate(sess, prefix=\"Donald Trump \", return_as_list=True, nsamples=10, length=20, include_prefix=True)"
      ],
      "execution_count": null,
      "outputs": [
        {
          "output_type": "execute_result",
          "data": {
            "text/plain": [
              "['Donald Trump   Is a Highly Politically Accepted Leader  \\nAlliance for the Destruction of AIDS Recovery',\n",
              " 'Donald Trump \\nWayne Rooney Ejected\\nJACKSONVILLE, Fla. - The boy in a Baltimore',\n",
              " \"Donald Trump \\nMAYOR AND HIS 'STAGED' POPE\\nLos Angeles Journal Of Arts &\",\n",
              " 'Donald Trump \\nNo Headline\\nThe Fund for Jobs\\nPESHAWAR IS RACIST\\nNEW',\n",
              " 'Donald Trump \\nGIDING THE UNITY OF CALIFORNIA BEGAN UNION\\nTUR',\n",
              " 'Donald Trump \\nThis Week in the New York Times \\nGrenfell Falls to No. 3\\nNo',\n",
              " \"Donald Trump  \\nHAWAII: 'My Friends'  \\nESSAY SEES A NEW HOME\",\n",
              " 'Donald Trump \\nDundee, Georgia - Voluntary Housing Company \\nMariha G. L.',\n",
              " 'Donald Trump \\nKremlin Leader Says US Will Not Pay Aid for Refugees\\nLONG ISLANDERS\\nRe',\n",
              " 'Donald Trump \\nWithdrawal of the U.S. I.R.A. \\nCuomo']"
            ]
          },
          "metadata": {
            "tags": []
          },
          "execution_count": 4
        }
      ]
    },
    {
      "cell_type": "code",
      "metadata": {
        "id": "0sG372426UTZ",
        "outputId": "55e59d01-7099-4354-e25b-8a4b34550217",
        "colab": {
          "base_uri": "https://localhost:8080/",
          "height": 69
        }
      },
      "source": [
        "!ls sample_data"
      ],
      "execution_count": null,
      "outputs": [
        {
          "output_type": "stream",
          "text": [
            "anscombe.json\t\t      mnist_test.csv\n",
            "california_housing_test.csv   mnist_train_small.csv\n",
            "california_housing_train.csv  README.md\n"
          ],
          "name": "stdout"
        }
      ]
    },
    {
      "cell_type": "code",
      "metadata": {
        "id": "84xRlJzI6V1k",
        "outputId": "dfcdca28-8796-4097-f724-a4bfefe84538",
        "colab": {
          "base_uri": "https://localhost:8080/",
          "height": 207
        }
      },
      "source": [
        "!wget https://static.simonwillison.net/static/2020/nytimes-headlines.json-nl"
      ],
      "execution_count": null,
      "outputs": [
        {
          "output_type": "stream",
          "text": [
            "--2020-01-23 00:59:56--  https://static.simonwillison.net/static/2020/nytimes-headlines.json-nl\n",
            "Resolving static.simonwillison.net (static.simonwillison.net)... 104.27.176.63, 104.27.177.63, 2606:4700:3032::681b:b03f, ...\n",
            "Connecting to static.simonwillison.net (static.simonwillison.net)|104.27.176.63|:443... connected.\n",
            "HTTP request sent, awaiting response... 200 OK\n",
            "Length: 330693348 (315M) [application/octet-stream]\n",
            "Saving to: ‘nytimes-headlines.json-nl’\n",
            "\n",
            "nytimes-headlines.j 100%[===================>] 315.37M  21.2MB/s    in 16s     \n",
            "\n",
            "2020-01-23 01:00:12 (19.8 MB/s) - ‘nytimes-headlines.json-nl’ saved [330693348/330693348]\n",
            "\n"
          ],
          "name": "stdout"
        }
      ]
    },
    {
      "cell_type": "code",
      "metadata": {
        "id": "elyMHz4i6XuE",
        "outputId": "2df4115f-8c49-4390-a441-7275c40e8e85",
        "colab": {
          "base_uri": "https://localhost:8080/",
          "height": 210
        }
      },
      "source": [
        "!head nytimes-headlines.json-nl"
      ],
      "execution_count": null,
      "outputs": [
        {
          "output_type": "stream",
          "text": [
            "{\"day\": \"1920-04-02\", \"headline\": \"SUTTON DEFEATS CUTLER.; Leads by 300 to 164 in First Block of Exhibition Billiard Match.\"}\n",
            "{\"day\": \"1920-04-02\", \"headline\": \"Citizens Union Meets April 8.\"}\n",
            "{\"day\": \"1920-04-02\", \"headline\": \"Ruddigore\\\" for Roosevelt Fund.\"}\n",
            "{\"day\": \"1920-04-03\", \"headline\": \"Women Net Stars to Tour East.\"}\n",
            "{\"day\": \"1920-04-04\", \"headline\": \"OUIMET IN SUPERB FORM IN GOLF TILT; Woodlawn Player Turns in a 70 in North and South Tourney and Puts Out Wells. Wells Wins Only Two Holes.\"}\n",
            "{\"day\": \"1920-04-05\", \"headline\": \"THEATRICAL NOTES.\"}\n",
            "{\"day\": \"1920-04-06\", \"headline\": \"Worsted Decorations Used.\"}\n",
            "{\"day\": \"1920-04-07\", \"headline\": \"Lipton to Ask Substitution If Old Boat Proves Faster\"}\n",
            "{\"day\": \"1920-04-08\", \"headline\": \"LEGAL FIGHT NEAR ON STUTZ CORNER; Fifteen Stock Exchange Firms Hire Lawyers to Resist Squeezing Process. 200 SHARES BRING $140,200 Auction Nets Owner $118,000 Profit After Bids Rise from $400. FLURRY IN RYAN STOCKS Rumors Start of Possibility That Shorts in Several Issues May Suffer.\"}\n",
            "{\"day\": \"1920-04-08\", \"headline\": \"VICTORY A PRESENT TO COLUMBIA NINE; N.Y.U. Twirler Makes Brief Ascent in Third Inning and Results Are Costly.\"}\n"
          ],
          "name": "stdout"
        }
      ]
    },
    {
      "cell_type": "code",
      "metadata": {
        "id": "xaXmPzQR6jj6"
      },
      "source": [
        "import json\n",
        "nytimes_1920_headlines = []\n",
        "for line in open(\"nytimes-headlines.json-nl\"):\n",
        "  if line.startswith('{\"day\": \"1920-'):\n",
        "    d = json.loads(line)\n",
        "    nytimes_1920_headlines.append(d[\"headline\"])"
      ],
      "execution_count": null,
      "outputs": []
    },
    {
      "cell_type": "code",
      "metadata": {
        "id": "BlBt9Gub6yAt",
        "outputId": "b1df616b-7595-4779-a054-376abe0171d0",
        "colab": {
          "base_uri": "https://localhost:8080/",
          "height": 35
        }
      },
      "source": [
        "len(nytimes_1920_headlines)"
      ],
      "execution_count": null,
      "outputs": [
        {
          "output_type": "execute_result",
          "data": {
            "text/plain": [
              "88648"
            ]
          },
          "metadata": {
            "tags": []
          },
          "execution_count": 8
        }
      ]
    },
    {
      "cell_type": "code",
      "metadata": {
        "id": "0k7RD28u61TN",
        "outputId": "ec31742d-da65-4bde-e41b-56d1e381c1c2",
        "colab": {
          "base_uri": "https://localhost:8080/",
          "height": 35
        }
      },
      "source": [
        "nytimes_1920_headlines[19\n",
        "                      ]"
      ],
      "execution_count": null,
      "outputs": [
        {
          "output_type": "execute_result",
          "data": {
            "text/plain": [
              "'RED SOX BATS GIVE JOHNSON HIS CONGE; Noted Speed Merchant Driven from Box Under Hail of Hits and Senators Lose.'"
            ]
          },
          "metadata": {
            "tags": []
          },
          "execution_count": 10
        }
      ]
    },
    {
      "cell_type": "code",
      "metadata": {
        "id": "Pck6Oce7616g"
      },
      "source": [
        "open(\"nytimes-1920.txt\", \"w\").writelines(nytimes_1920_headlines)"
      ],
      "execution_count": null,
      "outputs": []
    },
    {
      "cell_type": "code",
      "metadata": {
        "id": "KlGFc2NR68Jo",
        "outputId": "5a1c0989-b00c-4426-d93b-c637922173ac",
        "colab": {
          "base_uri": "https://localhost:8080/",
          "height": 35
        }
      },
      "source": [
        "!ls"
      ],
      "execution_count": null,
      "outputs": [
        {
          "output_type": "stream",
          "text": [
            "nytimes-1920.txt  nytimes-headlines.json-nl  sample_data\n"
          ],
          "name": "stdout"
        }
      ]
    },
    {
      "cell_type": "code",
      "metadata": {
        "id": "jDCVUJFL68yc",
        "outputId": "8ac4ef1e-979b-4e55-e76f-098ca2a8c296",
        "colab": {
          "base_uri": "https://localhost:8080/",
          "height": 202
        }
      },
      "source": [
        "import gpt_2_simple as gpt2\n"
      ],
      "execution_count": null,
      "outputs": [
        {
          "output_type": "display_data",
          "data": {
            "text/html": [
              "<p style=\"color: red;\">\n",
              "The default version of TensorFlow in Colab will soon switch to TensorFlow 2.x.<br>\n",
              "We recommend you <a href=\"https://www.tensorflow.org/guide/migrate\" target=\"_blank\">upgrade</a> now \n",
              "or ensure your notebook will continue to use TensorFlow 1.x via the <code>%tensorflow_version 1.x</code> magic:\n",
              "<a href=\"https://colab.research.google.com/notebooks/tensorflow_version.ipynb\" target=\"_blank\">more info</a>.</p>\n"
            ],
            "text/plain": [
              "<IPython.core.display.HTML object>"
            ]
          },
          "metadata": {
            "tags": []
          }
        },
        {
          "output_type": "stream",
          "text": [
            "WARNING:tensorflow:\n",
            "The TensorFlow contrib module will not be included in TensorFlow 2.0.\n",
            "For more information, please see:\n",
            "  * https://github.com/tensorflow/community/blob/master/rfcs/20180907-contrib-sunset.md\n",
            "  * https://github.com/tensorflow/addons\n",
            "  * https://github.com/tensorflow/io (for I/O related ops)\n",
            "If you depend on functionality not listed there, please file an issue.\n",
            "\n"
          ],
          "name": "stdout"
        }
      ]
    },
    {
      "cell_type": "code",
      "metadata": {
        "id": "DRqJ6GR67EFA",
        "outputId": "a4b3c9a8-183b-4f0f-f5b8-2b29dd2fff4a",
        "colab": {
          "base_uri": "https://localhost:8080/",
          "height": 155
        }
      },
      "source": [
        "import os\n",
        "model_name = \"124M\"\n",
        "if not os.path.isdir(os.path.join(\"models\", model_name)):\n",
        "\tprint(f\"Downloading {model_name} model...\")\n",
        "\tgpt2.download_gpt2(model_name=model_name)   # model is saved into current directory under /models/124M/\n"
      ],
      "execution_count": null,
      "outputs": [
        {
          "output_type": "stream",
          "text": [
            "Fetching checkpoint: 1.05Mit [00:00, 268Mit/s]                                                      \n",
            "Fetching encoder.json: 1.05Mit [00:00, 111Mit/s]                                                    \n",
            "Fetching hparams.json: 1.05Mit [00:00, 413Mit/s]                                                    "
          ],
          "name": "stderr"
        },
        {
          "output_type": "stream",
          "text": [
            "Downloading 124M model...\n"
          ],
          "name": "stdout"
        },
        {
          "output_type": "stream",
          "text": [
            "\n",
            "Fetching model.ckpt.data-00000-of-00001: 498Mit [00:02, 190Mit/s]                                   \n",
            "Fetching model.ckpt.index: 1.05Mit [00:00, 369Mit/s]                                                \n",
            "Fetching model.ckpt.meta: 1.05Mit [00:00, 203Mit/s]                                                 \n",
            "Fetching vocab.bpe: 1.05Mit [00:00, 183Mit/s]                                                       \n"
          ],
          "name": "stderr"
        }
      ]
    },
    {
      "cell_type": "code",
      "metadata": {
        "id": "ZIaZTPfn7K7q",
        "outputId": "80f17e4c-502d-4c65-db43-eb9ec5a9110f",
        "colab": {
          "base_uri": "https://localhost:8080/",
          "height": 1000
        }
      },
      "source": [
        "sess = gpt2.start_tf_sess()\n",
        "gpt2.finetune(sess,\n",
        "  \"nytimes-1920.txt\",\n",
        "  model_name=model_name,\n",
        "  steps=100)   # steps is max number of training steps\n",
        "\n",
        "gpt2.generate(sess)"
      ],
      "execution_count": null,
      "outputs": [
        {
          "output_type": "stream",
          "text": [
            "WARNING:tensorflow:From /usr/local/lib/python3.6/dist-packages/gpt_2_simple/src/sample.py:17: where (from tensorflow.python.ops.array_ops) is deprecated and will be removed in a future version.\n",
            "Instructions for updating:\n",
            "Use tf.where in 2.0, which has the same broadcast rule as np.where\n",
            "Loading checkpoint models/124M/model.ckpt\n",
            "INFO:tensorflow:Restoring parameters from models/124M/model.ckpt\n"
          ],
          "name": "stdout"
        },
        {
          "output_type": "stream",
          "text": [
            "\r  0%|          | 0/1 [00:00<?, ?it/s]"
          ],
          "name": "stderr"
        },
        {
          "output_type": "stream",
          "text": [
            "Loading dataset...\n"
          ],
          "name": "stdout"
        },
        {
          "output_type": "stream",
          "text": [
            "\r100%|██████████| 1/1 [00:13<00:00, 13.00s/it]\n"
          ],
          "name": "stderr"
        },
        {
          "output_type": "stream",
          "text": [
            "dataset has 2342896 tokens\n",
            "Training...\n",
            "[1 | 8.97] loss=4.94 avg=4.94\n",
            "[2 | 11.14] loss=5.18 avg=5.06\n",
            "[3 | 13.30] loss=4.92 avg=5.01\n",
            "[4 | 15.49] loss=4.86 avg=4.98\n",
            "[5 | 17.68] loss=4.80 avg=4.94\n",
            "[6 | 19.87] loss=4.73 avg=4.90\n",
            "[7 | 22.06] loss=4.81 avg=4.89\n",
            "[8 | 24.26] loss=4.64 avg=4.86\n",
            "[9 | 26.45] loss=4.70 avg=4.84\n",
            "[10 | 28.66] loss=4.69 avg=4.82\n",
            "[11 | 30.87] loss=4.65 avg=4.81\n",
            "[12 | 33.10] loss=4.62 avg=4.79\n",
            "[13 | 35.34] loss=4.55 avg=4.77\n",
            "[14 | 37.59] loss=4.61 avg=4.76\n",
            "[15 | 39.84] loss=4.57 avg=4.75\n",
            "[16 | 42.09] loss=4.56 avg=4.73\n",
            "[17 | 44.35] loss=4.57 avg=4.72\n",
            "[18 | 46.63] loss=4.55 avg=4.71\n",
            "[19 | 48.90] loss=4.46 avg=4.70\n",
            "[20 | 51.19] loss=4.58 avg=4.69\n",
            "[21 | 53.48] loss=4.46 avg=4.68\n",
            "[22 | 55.80] loss=4.54 avg=4.67\n",
            "[23 | 58.12] loss=4.49 avg=4.66\n",
            "[24 | 60.45] loss=4.50 avg=4.66\n",
            "[25 | 62.80] loss=4.50 avg=4.65\n",
            "[26 | 65.17] loss=4.50 avg=4.64\n",
            "[27 | 67.54] loss=4.37 avg=4.63\n",
            "[28 | 69.94] loss=4.48 avg=4.62\n",
            "[29 | 72.35] loss=4.41 avg=4.62\n",
            "[30 | 74.79] loss=4.43 avg=4.61\n",
            "[31 | 77.23] loss=4.39 avg=4.60\n",
            "[32 | 79.69] loss=4.37 avg=4.59\n",
            "[33 | 82.14] loss=4.38 avg=4.58\n",
            "[34 | 84.59] loss=4.37 avg=4.58\n",
            "[35 | 87.06] loss=4.45 avg=4.57\n",
            "[36 | 89.53] loss=4.20 avg=4.56\n",
            "[37 | 91.98] loss=4.36 avg=4.55\n",
            "[38 | 94.41] loss=4.42 avg=4.55\n",
            "[39 | 96.84] loss=4.40 avg=4.54\n",
            "[40 | 99.24] loss=4.39 avg=4.54\n",
            "[41 | 101.65] loss=4.23 avg=4.53\n",
            "[42 | 104.05] loss=4.44 avg=4.53\n",
            "[43 | 106.44] loss=4.37 avg=4.52\n",
            "[44 | 108.82] loss=4.26 avg=4.52\n",
            "[45 | 111.21] loss=4.29 avg=4.51\n",
            "[46 | 113.59] loss=4.22 avg=4.50\n",
            "[47 | 115.95] loss=4.29 avg=4.50\n",
            "[48 | 118.33] loss=4.27 avg=4.49\n",
            "[49 | 120.69] loss=4.28 avg=4.49\n",
            "[50 | 123.06] loss=4.35 avg=4.48\n",
            "[51 | 125.42] loss=4.22 avg=4.48\n",
            "[52 | 127.78] loss=4.22 avg=4.47\n",
            "[53 | 130.15] loss=4.20 avg=4.46\n",
            "[54 | 132.53] loss=4.31 avg=4.46\n",
            "[55 | 134.90] loss=4.19 avg=4.45\n",
            "[56 | 137.27] loss=4.28 avg=4.45\n",
            "[57 | 139.64] loss=4.17 avg=4.44\n",
            "[58 | 142.01] loss=4.28 avg=4.44\n",
            "[59 | 144.39] loss=4.27 avg=4.43\n",
            "[60 | 146.78] loss=4.24 avg=4.43\n",
            "[61 | 149.17] loss=4.37 avg=4.43\n",
            "[62 | 151.56] loss=4.25 avg=4.43\n",
            "[63 | 153.95] loss=4.29 avg=4.42\n",
            "[64 | 156.35] loss=4.16 avg=4.42\n",
            "[65 | 158.73] loss=3.97 avg=4.41\n",
            "[66 | 161.14] loss=4.25 avg=4.40\n",
            "[67 | 163.53] loss=4.24 avg=4.40\n",
            "[68 | 165.93] loss=4.20 avg=4.40\n",
            "[69 | 168.33] loss=4.21 avg=4.39\n",
            "[70 | 170.72] loss=4.23 avg=4.39\n",
            "[71 | 173.13] loss=4.24 avg=4.39\n",
            "[72 | 175.54] loss=4.22 avg=4.38\n",
            "[73 | 177.95] loss=4.23 avg=4.38\n",
            "[74 | 180.36] loss=4.20 avg=4.38\n",
            "[75 | 182.76] loss=4.24 avg=4.37\n",
            "[76 | 185.17] loss=4.11 avg=4.37\n",
            "[77 | 187.59] loss=4.15 avg=4.37\n",
            "[78 | 190.00] loss=4.09 avg=4.36\n",
            "[79 | 192.40] loss=4.22 avg=4.36\n",
            "[80 | 194.79] loss=4.17 avg=4.35\n",
            "[81 | 197.20] loss=4.19 avg=4.35\n",
            "[82 | 199.61] loss=4.16 avg=4.35\n",
            "[83 | 202.02] loss=4.03 avg=4.34\n",
            "[84 | 204.42] loss=4.31 avg=4.34\n",
            "[85 | 206.83] loss=4.20 avg=4.34\n",
            "[86 | 209.23] loss=4.14 avg=4.34\n",
            "[87 | 211.62] loss=4.30 avg=4.34\n",
            "[88 | 214.03] loss=4.16 avg=4.33\n",
            "[89 | 216.43] loss=4.29 avg=4.33\n",
            "[90 | 218.82] loss=4.12 avg=4.33\n",
            "[91 | 221.23] loss=4.15 avg=4.33\n",
            "[92 | 223.63] loss=4.03 avg=4.32\n",
            "[93 | 226.03] loss=4.19 avg=4.32\n",
            "[94 | 228.43] loss=4.01 avg=4.31\n",
            "[95 | 230.83] loss=4.13 avg=4.31\n",
            "[96 | 233.23] loss=4.07 avg=4.31\n",
            "[97 | 235.62] loss=4.21 avg=4.30\n",
            "[98 | 238.02] loss=4.17 avg=4.30\n",
            "[99 | 240.42] loss=4.12 avg=4.30\n",
            "[100 | 242.82] loss=4.10 avg=4.30\n",
            "Saving checkpoint/run1/model-100\n",
            "Injuries to the Mayor--Fenini and Novices in New York City.Quits Game.E.T. Enoch Quit.New York and the West.LONDON TO FIGHT IN THE WORLD WEST--THE TREASURY.WOMEN TO BE HELD IN HOUSING CHAMPION TAXES ON NET PRICES--GENERAL WINS TOURNEY--Suspends Harvard Football.Mrs. Baker Expires.Printing Service.THEATRICAL NOTES.CALLS BILL ISSUED; Royal Commission to Investigate the Departments of Constitutional Affairs in New York.COTTON PAPERS RACE IN BRITAIN; Will Take Part in London Games on Wednesday, May 15.CANADA'S ENGLAND BILLS LITIGATION; Former American Consul to the Netherlands, Bishop Youngson, Is to be Witness to the Treaty.RUSSIA IN EUROPE; Food and Water Supply in the Five Nations.JAPANESE SHIPS TO STRIKES DISARM; British Southern Fleet Is In Need of Food and Water for a. Nine Weeks. AMERICAN MANUFACTURING IN THE WORLD E.T. Enoch Duke of the Netherlands.English Holdings in Germany.English Holdings in France.MORROW TO EXPLAIN INQUIRY; Senator Warns University of Virginia Students of Russian and Italian Information.HARDING TO HOLD BUSINESS; Children of \"Honey's Lure\" Are to be Sent to New York City.NO INDICTMENT FOR BREAKING INQUIRY; Former Senator Soares to Present Law Today Against President.Mrs. Baker Expires.TICKETS TO BE TIED TO US.; New York Convention on Banquet of Roses and Fruits.FOUR DAY'S HOLDERS TO DEFEND NEGRO STRIKERS; Concerns of Senators Are Housed at Conference for Conference on the Convention.LITTLE BOWERS BEGING IN LONDON; Two of the Four Chicago Visitors to Fight for the Movement on Public Property.REPORTS A NEW CIRCULATION.; Farmer and His Family Prepare to Return to Home.GIANTS SEEK TO US; May Exclude Astor from Contest at South Park.TUESDAY WEDS PLAY; Louisville Men of the Brilliant Ball, by George L. Coughlin and Arthur W. Williams, Beaten in Central Park.JERSEY BILLS TO BE KNOWN.; General Baker to be Held in Session for President on Tuesday.MRS. GIANTS FINISH TIE.; Ohio Men Referee Matches Women in Tennisat Cleveland.WILLIAM WINS RACE FROM TENNIS.; Beats Charlotte Reds, 6 to 7, in Close Game at Houston.JERSEY BILLS TO BE KNOWN.; General Baker to be Held in Session for President on Tuesday.TO OPPOSE UNION PAYMENT.; Small Committee to Prosecute Professors and Sell Them.ART TAXATION BOARD IS LITTLE.; Leads the Way In Taxation and Its Enforcement.CONCERTS LEAGUE EIGHT.; Ohioan and Republican Players Meet in Athletic Championships.GREET HANNITY.; \"Cries\" in the Concert Hall of the Indianapolis.HOOVER IRISH RATES LOWER; Fuhrman Makes Good Numbers in Franchise Holdup, but F.A.C. Control.KEEPIRD SEEKS FOR AMPACT.; New Jersey Governor and Mayor Break New York Sports Bar of Honor.Obituary 1 -- No TitleHOUSTON OFFERS VOCAL.; New House of Delegates and Senate Meetings for October.Showing Up for Basketball Game.FEDERAL LEAGUE HITS NEW YORK; GERMAN AND IRISH RATIFICATION IN BERLIN; FAVOR IT'S A BILL IN THE NEW YORK TICKETS; PRESIDENT WILL OPPOSE ANOTHER'S WINS; CIRCULATION ON THE NEW CIRCULATION Tells Members of the Senate and House Committees That He Will Reject the Convention Clause of the Constitution.SOCIAL NOTES.JOHN KASICH WINS.; Beaten by Eleven, 6 to 6, in Games at Amherst.LOUISVILLE ATTACKS CUMULATIVE.; Rival Party and Billiard Club Vote in Favor of Amendment.MIRACLE KNOWS BIG GAME.; Hochberg's Columbia Team, in Semi-Finals, Will Shuffle.BUSINESS NOTES.MISS COTTON'S BILLS OVER WOOD; Johnson's Plan, He Says, Removes Any Objection to the Bill.ALASKA HAS EXPLOSIVES.; Committee to Control Tariff Changes in 1921.IRISH BOY GIVES BIG SHOW OF NINE WINS; Wins Bout in Hundred-Foot Club at School for the Newborn.WANTS TO TROOPS\n"
          ],
          "name": "stdout"
        }
      ]
    },
    {
      "cell_type": "code",
      "metadata": {
        "id": "59_pNfwE7S6X",
        "outputId": "6821e74b-0c25-4e58-ebe1-b86f429a9fae",
        "colab": {
          "base_uri": "https://localhost:8080/",
          "height": 55
        }
      },
      "source": [
        "gpt2.generate(sess, prefix=\"Disaster strikes in\")"
      ],
      "execution_count": null,
      "outputs": [
        {
          "output_type": "stream",
          "text": [
            "Disaster strikes in the British Isles, but the Weather. No Climatification of the Situation.War Woe for the Estate of the \"Obituary.\".Death of Colonel Merrick.MISS HARDING EXPLAINS.WILLIST'S ACTIVITY THEORY.HOOVER MAKES SEARCH IN INDIANA.; Singles and Grand Slams in First Annual Tennis Tournament.C.M. DUGGAN IN GOOD WINS.; Will Enter Tennis Club With Five Points in Fourth Round.HOTEL LOSES THE WOMEN.; K.H.A.M.'s Daughter, Miss L.C. Wilson, Faces Young Husband of Wife of Mayor.Birth Notice--Hoover and Wilson.TRAINING LEADERS WIN.; Tiered with Phelps by 2,000 in Middletown.HUGHES' SAVED FOUR IN 15-YEAR-OLD TURKEY; Son of Great General H.W. and Mrs. K.V. Woo Wins Second Bout.HARDING'S NEAREST TITLE IS MISSING.; Palmer Wins Handicap Title for 500-Yard Championship.MADISON TO DEATH OF ROTOR.; Sixteen-Year-Old Son of New England Woman, Mrs. Marietta, Is Killed.MAKES NEW YORK ATTACKS ON COX.; Says Cornell Is a \"Playing World.\"Buys a House on East Broadway.HOOVER'S BONUS IN LONDON.; Will Become President of the Second Regiment.Hoover's Wife and Daughter in Leisure Suit.CITY SUCCEEDS WITH COLBY.; Hopes to Prove He Can Defeat Carroll in Couple's Cup.TOPICS OF THE TIMES.CORRIGAN BONUS.; Immigration and the War.THE WORLD OF IMMIGRATION, TURKEY.New York Will Try to Reorganize.Hoover's Bond.NEW YORK INQUIRY.LONDON STRIKE IN SEEKING AND PORTRAITS; Tax Exemptions Worth $1,000,000; Special Duty April 1 Against the Currency. Brokers Pay $1,000,000 for New York.RUTH WILL SEND PLEDGED.; Will Enter Collegiate Tennis Club With Three Points in Fourth Round.WINNER CAPTIVITIES IN ONE GAME; Post-season Regatta Match of Fourteenth Annual Brooklyn Tennis Club.The Christmas Eve Games.THE NEW YORK CLUB EXCERPT.FIVE-YEAR-OLD TO PREDICTS THE BEST.; First Pair to Play in Brooklyn at 17,000.ROBINS' WIFE RESENTS KAWA; Child Wants to Show Him That She's a Woman and Not an Animal.DECLARES CONTROL AT ARMY; DAY'S WINTS IN REDSOUTLAYER WILL HOLD UP AT MAPS; She Will Play Also in the National Championship, but Will Have to Appear at the Final in New Orleans.DOCTOR'S SELLS HIS BILL.COTTON AND WEDNESDAY.A LITTLE SHOOT IN CHICAGO.; Delaware Attorney General's Office Proves That Shingles Are Safe.HOOVER REACHS POOR IN TWO-YEAR FANS; Wins Second Bout in Twenty-first-Century Tennis for First Time in League History.MATHEW TO SIX HOLDERS.; International Football Club to Have First Men at Knockout Game.Marriage Announcement 2 -- No TitleROBIN WANTS WORLD'S TITLE.; Wins Three Bout at Portland, but Is Accused of Taking Tennis Title.MRS. ANDERSON IN GARDEN; Merchant and Family on Old Island Will Appear at Cleveland.M.H.I. LODGE IN THE BUBBLE MATCH; Wants 15-Yard Champion to Win at New York.POWER'S INFLUENZA DECISION.; A.G. Gould Wins in Tennis and Tennis National Doubles.Little Leaguers.CALLED FOR $10,000,000 DISCOMFORT; Shoe Dealer to Accept New York Mile Exemptions.TURKEY BOMBS ALL IN TWICE, VILLAGE MEN SAY; Pertinax's High Score in 15-Yard Cruiser Is Disturbing.SALES OUTMISS WILSON.; She Took Her Wife's Head in Attempt to Save Her Life.LONDON TO COOPERATE WITH REPUBLIC; Would Aid in Climate Reduction and To Make U.S. a Better Place.BANKERS SEE NO REACTION FROM BOOM; Will Return to Field in New York if President Wantsto Be Asked.SOCIAL NOTES.WILLIAM BAKER ARRESTS IN GOLF COURTS; German President, in His Campaign Speech\n"
          ],
          "name": "stdout"
        }
      ]
    },
    {
      "cell_type": "code",
      "metadata": {
        "id": "igHDjs8J8lKk",
        "outputId": "ffb4c0c4-eff5-4205-c631-cfdc45713294",
        "colab": {
          "base_uri": "https://localhost:8080/",
          "height": 190
        }
      },
      "source": [
        "gpt2.generate(sess, prefix=\"Who\", return_as_list=True, nsamples=10, length=20)"
      ],
      "execution_count": null,
      "outputs": [
        {
          "output_type": "execute_result",
          "data": {
            "text/plain": [
              "['Who Sawyer Had Trouble with.TEXAS BANKS APPEAL.; Peace Association to Aid Work',\n",
              " 'WhoARUM FROM OUR SERVICE IS MORE HARDING THAN THE BABYAH.; \"',\n",
              " 'Who has ever been a Republican? Select a Member of Congress Who Predicts Winning. Finds That Republican',\n",
              " 'Who Will Be Nominated for Starring in \"The Magnificent Sevens.\"The Sixteenth Street Story',\n",
              " 'Who Completely Squat Back and Hold Ground.\" Only a Little Distance Envoys of Sergeants.',\n",
              " \"Who in the World Is Killing Them? Is a Preemptive Strike's Impossible?Wouldn't Kill\",\n",
              " \"Who to Pay for Second Railway Plan?New York City's Expenses Are $20,000,000\",\n",
              " 'WhoALsAreBurnedInService\";Excerpted from \"P.E.I. List',\n",
              " 'Who MISSS NATIONAL LEAGUE. All of America is in Sorrow. Little Basket Case',\n",
              " \"Who WOULD BE WOULDY LEAGUE'S COACH; Fire Chief Says He Would Be\"]"
            ]
          },
          "metadata": {
            "tags": []
          },
          "execution_count": 29
        }
      ]
    },
    {
      "cell_type": "code",
      "metadata": {
        "id": "7wu6v7JL81VT",
        "outputId": "b79e2350-63d7-44c4-bed0-ced76d871bf3",
        "colab": {
          "base_uri": "https://localhost:8080/",
          "height": 190
        }
      },
      "source": [
        "gpt2.generate(sess, prefix=\"Germany\", return_as_list=True, nsamples=10, length=20, include_prefix=True)"
      ],
      "execution_count": null,
      "outputs": [
        {
          "output_type": "execute_result",
          "data": {
            "text/plain": [
              "['Germany From Three Twenty-Year-Olds.Outbreaks of \"Drift\" in the Japanese Population',\n",
              " 'Germany.FIND GREAT WILD INCREASED IN THE BANKS; No Grand Old Building Has',\n",
              " 'Germany to Give Orders for $7,000,000 Bonds.Miss Mary E. F. Van Li',\n",
              " 'Germany.The Widow of a German Miss.A Fresher Scraps $750,000 Estate.',\n",
              " 'Germany Puts All Its Cold War Government in Charge.INQUIRY DEALS FOR 1,8',\n",
              " \"Germany, Rhine and Berlin.VILLANTS TALK OF 'INQUIRY,' SAY\",\n",
              " 'Germany to Take Action In the Long Term.COLUMBIA ATTACKS RESERVE; Says',\n",
              " 'Germany Will Have to Pay a Fix of 43 Rents. AUDITORIES TAKE A COMPLIC',\n",
              " 'Germany and litte, but the Americans and the British. Four Aids Killed in Refusal of Delay',\n",
              " \"Germany.SAYS BUTTON ATTACKS WIDOW'S VOTE; Says She Will Do\"]"
            ]
          },
          "metadata": {
            "tags": []
          },
          "execution_count": 32
        }
      ]
    },
    {
      "cell_type": "code",
      "metadata": {
        "id": "PMt7aJKI-FWz",
        "outputId": "58561c6b-c7c3-421c-f20f-860aa4dcb205",
        "colab": {
          "base_uri": "https://localhost:8080/",
          "height": 190
        }
      },
      "source": [
        "gpt2.generate(sess, prefix=\"King\", return_as_list=True, nsamples=10, length=20, include_prefix=True)"
      ],
      "execution_count": null,
      "outputs": [
        {
          "output_type": "execute_result",
          "data": {
            "text/plain": [
              "['King Stops the Gathering.Armed with the Elements of American Constitution, He Is Sought for Service',\n",
              " 'King, a Republican, Declares That He Will Not Call It an Act of Injustice. Nine Year',\n",
              " \"King (Naval's Regiment).TO PLAY APPEAL TO RUSSIANS; Prof. H\",\n",
              " 'King of East Dublin Says the Irish Government Is Not Alone in Its Views.DURHAM PRAIS',\n",
              " 'KingU.S. SOUTHERN MEANS TO PUT $600,000 ON THE ROAD',\n",
              " \"King\\n\\nLabor Day in Latvia\\n\\nAin't Enough Places to Meet the Food.Eastern Parts\",\n",
              " \"King of Britain Takes Oath Against the Himmler's-To-Be-Strikers.R\",\n",
              " 'King of the Middle Ages, Princess of a Kingdom.DEMANDS BAD PRICE AND DEMANDS',\n",
              " 'Kingle with the Man.Obituary 1 -- No TitleMISS BERGER.Mrs.',\n",
              " 'King. \"MISS MYERS TO PLAY TOMATO,\" IS AFFECTED, SAYS']"
            ]
          },
          "metadata": {
            "tags": []
          },
          "execution_count": 39
        }
      ]
    },
    {
      "cell_type": "code",
      "metadata": {
        "id": "f1A-kaZa-wlX",
        "outputId": "e173caab-809c-482d-8649-94c76240567a",
        "colab": {
          "base_uri": "https://localhost:8080/",
          "height": 190
        }
      },
      "source": [
        "gpt2.generate(sess, prefix=\"Sutton\", return_as_list=True, nsamples=10, length=10, include_prefix=True)"
      ],
      "execution_count": null,
      "outputs": [
        {
          "output_type": "execute_result",
          "data": {
            "text/plain": [
              "['Sutton, Graham and Hebert. 20 YEARS A',\n",
              " 'Sutton, in a Letter To Mary, May 28.',\n",
              " 'Sutton, in the District, Miss G.S.',\n",
              " \"Sutton's Alfieres Frejectiv, with Self\",\n",
              " 'Sutton, now a Professional Baseball Manager, Deals with Mats',\n",
              " 'Sutton Still Vowing to Keep a Watchful Eye Over',\n",
              " \"Sutton's Reply to Woolworth's Reproach Revers\",\n",
              " 'Sutton, L.E., Jr. and Allen,',\n",
              " 'Sutton and Hon. G.B. Hughes Discuss Tax',\n",
              " \"Sutton's Way of Doing Things.FRENCH AND\"]"
            ]
          },
          "metadata": {
            "tags": []
          },
          "execution_count": 40
        }
      ]
    },
    {
      "cell_type": "code",
      "metadata": {
        "id": "HzIHfFD1_j7D",
        "outputId": "92fbc7c6-46a9-49da-db7a-dc98f2effab1",
        "colab": {
          "base_uri": "https://localhost:8080/",
          "height": 190
        }
      },
      "source": [
        "gpt2.generate(sess, prefix=\"Simon\", return_as_list=True, nsamples=10, length=10, include_prefix=True)"
      ],
      "execution_count": null,
      "outputs": [
        {
          "output_type": "execute_result",
          "data": {
            "text/plain": [
              "['Simon and I.COMMERCIAL CRASHES',\n",
              " 'Simon, who is the son of Sylvester Sy',\n",
              " 'Simon and the Greatest Giver of Lively Heart.',\n",
              " 'Simon 8.62 1.33 11.27 1',\n",
              " 'Simon H. Heath and John R. Payne.Mar',\n",
              " 'Simon Gave $500 $5,000 to Health',\n",
              " 'Simon, T.H.Horseswagon, Dr',\n",
              " \"Simon Kept Revealed Lenin's Favorite Republican.But\",\n",
              " 'Simon Does The Job of Agent in a Confident Way',\n",
              " \"Simon He Says That 'The Menace of the Dutch\"]"
            ]
          },
          "metadata": {
            "tags": []
          },
          "execution_count": 41
        }
      ]
    },
    {
      "cell_type": "code",
      "metadata": {
        "id": "DCHt87zz_phK",
        "outputId": "8139907b-ad98-4228-9013-5fb1eea26880",
        "colab": {
          "base_uri": "https://localhost:8080/",
          "height": 190
        }
      },
      "source": [
        "gpt2.generate(sess, prefix=\"Simon\", return_as_list=True, nsamples=10, length=30, include_prefix=True)"
      ],
      "execution_count": null,
      "outputs": [
        {
          "output_type": "execute_result",
          "data": {
            "text/plain": [
              "[\"Simon's Scheme for $10,000.MEXICO'S PRICE IS LOW.; Sinking Orders Much Lower Than on a Year Ago.GR\",\n",
              " 'Simons & Co. Shipped to the City.$12,000,000 INITAL TREE SELLING; Devens, His Brother,',\n",
              " \"Simon Young is Editor of the New York Review of Books.\\n\\n'COUPLE' IS TO MEET UPSET.; Fourmen to be Held\",\n",
              " 'Simon on Parliaments.BURNS HISTORY TOOLS; GUARD FOR OLYMPIC; BOYD TO HOLD EVANS, BUR',\n",
              " 'Simon of the New York Times. Awoke CREDITS, HE SAYS. TRACKS EASY WORKOUT, BUT NOT FOR EASY WORK',\n",
              " 'Simon, the \"Big Brother,\" with the Little Boy on the Other Side. No More Flying Within the World\\'s Limits.MRS. WOODS',\n",
              " 'Simon), \"Fire Orders\" and \"Porcelain.\"MODEL FOR COAL BROADWAY.NEW TEST OF PIRATES.TO BE',\n",
              " \"Simon, butler, the Villa Story.Birth Notice.; Two-Hour Notice for John G. Cooney.Rain Man's Wife Takes Over the Park\",\n",
              " 'Simon, Jr., and Mrs. W.T. Brennan.REPORT OF ARRESTS.; President of the Club of Minneapolis Loses Handicap',\n",
              " 'Simon Elects to be Collegiate President.CREEK WINS HERE AGAIN HERE; Boxer Takes Victory in Brooklyn Game.RUSSIAN']"
            ]
          },
          "metadata": {
            "tags": []
          },
          "execution_count": 42
        }
      ]
    },
    {
      "cell_type": "code",
      "metadata": {
        "id": "gEpo0yJY_0Qu",
        "outputId": "efc30311-b5f2-4405-f266-b7d1d517f1da",
        "colab": {
          "base_uri": "https://localhost:8080/",
          "height": 190
        }
      },
      "source": [
        "gpt2.generate(sess, prefix=\"Natasha\", return_as_list=True, nsamples=10, length=10, include_prefix=True)"
      ],
      "execution_count": null,
      "outputs": [
        {
          "output_type": "execute_result",
          "data": {
            "text/plain": [
              "['Natasha L. Miller, Former Assistant Attorney General, Ann',\n",
              " 'Natasha Smith, an American Wife, Wrote of \"',\n",
              " 'Natasha. of New York, with Her Daughter.THE',\n",
              " 'Natasha Clark Had More Than 50,000 Tokis in',\n",
              " \"Natasha Larkin, Who Had Been 'Brother' to\",\n",
              " 'Natasha Oribele Lasts in Supernatural Season.',\n",
              " 'Natasha Pressman, Metropolitan Opera Singer, Gets $500',\n",
              " 'Natasha Holt, a New Jersey Girl, Will Be a',\n",
              " 'Natasha A. Boden, Living and Living in the',\n",
              " 'Natasha and John from Brooklyn. What They Are Saying About']"
            ]
          },
          "metadata": {
            "tags": []
          },
          "execution_count": 46
        }
      ]
    },
    {
      "cell_type": "code",
      "metadata": {
        "id": "7VuYB3GR_6fa",
        "outputId": "74e3b1db-d29a-40a8-cd7a-6965f6adf530",
        "colab": {
          "base_uri": "https://localhost:8080/",
          "height": 190
        }
      },
      "source": [
        "gpt2.generate(sess, prefix=\"Colored\", return_as_list=True, nsamples=10, length=10, include_prefix=True)"
      ],
      "execution_count": null,
      "outputs": [
        {
          "output_type": "execute_result",
          "data": {
            "text/plain": [
              "['Colored Blue and Grey.M.C. Johnson is',\n",
              " 'Colored and Uncolored.02.19.MART',\n",
              " 'Colored Edition.NEW YORK FORIANS SOLD.; Bill',\n",
              " 'Colored Glass Knife.Divorce Announcement 20 Party Members',\n",
              " 'Colored with Strips of Acid.\\n\\nObit',\n",
              " 'Colored Girls and Young Men Enter to See the B.',\n",
              " 'Colored Machinegun. DEFENDS PRAISE OF',\n",
              " 'Colored Theatre. Not the N.Y.A.',\n",
              " 'Colored, with the Profanity Gone, the Star-',\n",
              " 'Colored an American Woman.Confessions of an American Woman']"
            ]
          },
          "metadata": {
            "tags": []
          },
          "execution_count": 47
        }
      ]
    },
    {
      "cell_type": "code",
      "metadata": {
        "id": "LQKusbAjBbX6",
        "outputId": "b71a7dd7-a790-485b-9acc-561f8fb1fac6",
        "colab": {
          "base_uri": "https://localhost:8080/",
          "height": 72
        }
      },
      "source": [
        "gpt2.generate(sess, prefix=\"Timmy looked at the moon. \", return_as_list=True, nsamples=2, length=200, include_prefix=True)"
      ],
      "execution_count": null,
      "outputs": [
        {
          "output_type": "execute_result",
          "data": {
            "text/plain": [
              "['Timmy looked at the moon. \\xa0He\\'s Just a \"Marooned\" Man. Illiterate. First Aid, Later. Trolley Called to Park. Wreck of Plane. Hardship Remnants. Billiard Set Back. Mrs. Frederick and Mrs. E.J. Cut. A Rat Trap. Mrs. L.H. Davis. Home Worth $250,000. Death of a Friend. A Journey to the West. Mrs. Frederick and Mrs. E.J. Cut.A WALL STILL A SALE. EX-TWITTERING HONORS SUE OF $250,000 FRAUD; Tail in the Bay of Pigs Endangered by the Sea. New Jersey Football Lease.FOUR ARE DOUBTS.; Delegates at Westfield\\'s Meeting Are Feared for How to Raise the $2,000,000.Empathy Must Be Driven Away, Says Republican Leader. FOUR ARE DOUBTS.; Delegates at Westfield',\n",
              " 'Timmy looked at the moon.   \"Sugar\" and \"Grapes\" and \"Honey\" and \"Cranberry\" and said, \"I AM BIGGER AND BIGGER.\" JOHNSON SUFFRAGE TILS ON THREAT; He Says Him Too Much of the Genuine Wealth of America Is Gone--One Out of Three Firms in His Country.FARE FOR THE IMMIGRANTS; Proposed Measures in Council Will Prevent the Coming of the Anglo-American Rivals.HARVARD TO MEET COX; President and Senator Will Meet at Washington on Monday. JOHNSON PRIMARY TO FINANCE LABOR; Summons Chairman to be Joined by Party Leaders--JOHNSON PRIMARY TO FINANCE LABOR Congressman Stole $45,000,000 from American Bank--Marshall\\'s $27,000,000 Hire.COX TO MEET COX.; Wilson to Meet Him at Washington on']"
            ]
          },
          "metadata": {
            "tags": []
          },
          "execution_count": 48
        }
      ]
    },
    {
      "cell_type": "code",
      "metadata": {
        "id": "kMgNmqs-B5VB",
        "outputId": "ffe4cd62-ed97-4da2-e44a-5a58276f395f",
        "colab": {
          "base_uri": "https://localhost:8080/",
          "height": 72
        }
      },
      "source": [
        "gpt2.generate(sess, prefix=\"Donald Trump is \", return_as_list=True, nsamples=2, length=100, include_prefix=True)"
      ],
      "execution_count": null,
      "outputs": [
        {
          "output_type": "execute_result",
          "data": {
            "text/plain": [
              "['Donald Trump is ersatz in the most outlandish of ways, but the President\\'s FallScore is a strong and compelling sign of a Republican President\"\\n\\n\"Her Hand Is Not Told\" by John Boynton.\\n\\nU.S. President\\'s Edge at Chicago. Handmaids\\' Cup Is Not Told.Gov. Smith Tells Him His Grandchild Would be His.Wall Street Arm-in-Arms.Obituary 1 -- No TitleThe ST. PETERSBURG ELECT',\n",
              " 'Donald Trump is eringing for a Bill. \"Fracture\" Is America\\'s Best Plan. Labor Leader Says It Can\\'t Be Demanded.PENN STATE TOURNEY SCORES IN HARDING\\'S OFFERS; Wins Memorial Day Tennis Tournament, New York, and Washington, D.C. and Cleveland and New York.HARVARD WILL WIN TOURNEY IN BOOTH INDUCTION; New York Amateur Wrestles in Elis Basketball Tournament.Riding--The Winds Are Quiet.']"
            ]
          },
          "metadata": {
            "tags": []
          },
          "execution_count": 49
        }
      ]
    },
    {
      "cell_type": "code",
      "metadata": {
        "id": "iDcEO6gcC-CK",
        "colab": {
          "base_uri": "https://localhost:8080/",
          "height": 34
        },
        "outputId": "da42c36f-8019-4ee9-9c6c-cf53430069dc"
      },
      "source": [
        "ls"
      ],
      "execution_count": null,
      "outputs": [
        {
          "output_type": "stream",
          "text": [
            "\u001b[0m\u001b[01;34mcheckpoint\u001b[0m/  \u001b[01;34mmodels\u001b[0m/  \u001b[01;34msample_data\u001b[0m/  \u001b[01;34msamples\u001b[0m/  shakespeare.txt\n"
          ],
          "name": "stdout"
        }
      ]
    },
    {
      "cell_type": "code",
      "metadata": {
        "id": "q7cCp2Zu6BuW",
        "colab": {
          "base_uri": "https://localhost:8080/",
          "height": 34
        },
        "outputId": "df324bc8-84d4-4fb7-fff5-087148da07d5"
      },
      "source": [
        "pwd"
      ],
      "execution_count": null,
      "outputs": [
        {
          "output_type": "execute_result",
          "data": {
            "text/plain": [
              "'/content'"
            ]
          },
          "metadata": {
            "tags": []
          },
          "execution_count": 2
        }
      ]
    },
    {
      "cell_type": "code",
      "metadata": {
        "id": "3WTUepcX6CcI",
        "colab": {
          "base_uri": "https://localhost:8080/",
          "height": 34
        },
        "outputId": "56b69791-59fe-466f-8c7d-7c1795534675"
      },
      "source": [
        "!ls"
      ],
      "execution_count": null,
      "outputs": [
        {
          "output_type": "stream",
          "text": [
            "checkpoint  models  sample_data  samples  shakespeare.txt\n"
          ],
          "name": "stdout"
        }
      ]
    },
    {
      "cell_type": "code",
      "metadata": {
        "id": "P6xAi5dY95ow",
        "colab": {
          "base_uri": "https://localhost:8080/",
          "height": 34
        },
        "outputId": "7ca19c42-cd8c-49ec-8077-944852575d4f"
      },
      "source": [
        "!ls checkpoint"
      ],
      "execution_count": null,
      "outputs": [
        {
          "output_type": "stream",
          "text": [
            "run1\n"
          ],
          "name": "stdout"
        }
      ]
    },
    {
      "cell_type": "code",
      "metadata": {
        "id": "pJzgcJed97Cl"
      },
      "source": [
        "rm -rf checkpoint"
      ],
      "execution_count": null,
      "outputs": []
    },
    {
      "cell_type": "code",
      "metadata": {
        "id": "9w0Lvaqk98Ow",
        "colab": {
          "base_uri": "https://localhost:8080/",
          "height": 34
        },
        "outputId": "7d6414be-4556-4190-b0dc-a5f9b3374b65"
      },
      "source": [
        "# Try resetting the session\n",
        "gpt2.reset_session(sess)"
      ],
      "execution_count": null,
      "outputs": [
        {
          "output_type": "execute_result",
          "data": {
            "text/plain": [
              "<tensorflow.python.client.session.Session at 0x7f0d2979def0>"
            ]
          },
          "metadata": {
            "tags": []
          },
          "execution_count": 11
        }
      ]
    },
    {
      "cell_type": "code",
      "metadata": {
        "id": "I8aT-nI9Ao7M",
        "colab": {
          "base_uri": "https://localhost:8080/",
          "height": 1000
        },
        "outputId": "698f0151-0984-4148-c799-9290397ec3ce"
      },
      "source": [
        "# Run it against 2010s\n",
        "file_name = \"nytimes-headlines-2010s.txt\"\n",
        "if not os.path.isfile(file_name):\n",
        "\turl = \"https://static.simonwillison.net/static/2020/nytimes-headlines-2010s.txt\"\n",
        "\tdata = requests.get(url)\n",
        "\twith open(file_name, 'w') as f:\n",
        "\t\tf.write(data.text)\n",
        "\n",
        "# Actually let's not have newlines in that file\n",
        "s = open(file_name).read()\n",
        "open(file_name, \"w\").write(' '.join(s.split('\\n')))\n",
        "\n",
        "sess = gpt2.start_tf_sess()\n",
        "gpt2.finetune(sess,\n",
        "              file_name,\n",
        "              model_name=model_name,\n",
        "              run_name='run_2010s_2',\n",
        "              steps=100)   # steps is max number of training steps\n",
        "\n",
        "gpt2.generate(sess)"
      ],
      "execution_count": null,
      "outputs": [
        {
          "output_type": "stream",
          "text": [
            "Loading checkpoint models/124M/model.ckpt\n",
            "INFO:tensorflow:Restoring parameters from models/124M/model.ckpt\n"
          ],
          "name": "stdout"
        },
        {
          "output_type": "stream",
          "text": [
            "\r  0%|          | 0/1 [00:00<?, ?it/s]"
          ],
          "name": "stderr"
        },
        {
          "output_type": "stream",
          "text": [
            "Loading dataset...\n"
          ],
          "name": "stdout"
        },
        {
          "output_type": "stream",
          "text": [
            "\r100%|██████████| 1/1 [00:47<00:00, 47.79s/it]\n"
          ],
          "name": "stderr"
        },
        {
          "output_type": "stream",
          "text": [
            "dataset has 11444431 tokens\n",
            "Training...\n",
            "[1 | 7.54] loss=4.09 avg=4.09\n",
            "[2 | 9.76] loss=4.62 avg=4.35\n",
            "[3 | 11.99] loss=4.55 avg=4.42\n",
            "[4 | 14.21] loss=4.66 avg=4.48\n",
            "[5 | 16.44] loss=4.31 avg=4.44\n",
            "[6 | 18.67] loss=4.67 avg=4.48\n",
            "[7 | 20.92] loss=4.15 avg=4.43\n",
            "[8 | 23.17] loss=4.21 avg=4.40\n",
            "[9 | 25.42] loss=4.39 avg=4.40\n",
            "[10 | 27.67] loss=4.40 avg=4.40\n",
            "[11 | 29.91] loss=4.03 avg=4.37\n",
            "[12 | 32.17] loss=4.18 avg=4.35\n",
            "[13 | 34.43] loss=4.50 avg=4.36\n",
            "[14 | 36.70] loss=4.19 avg=4.35\n",
            "[15 | 38.97] loss=4.02 avg=4.33\n",
            "[16 | 41.23] loss=4.72 avg=4.35\n",
            "[17 | 43.50] loss=3.81 avg=4.32\n",
            "[18 | 45.78] loss=4.02 avg=4.30\n",
            "[19 | 48.06] loss=4.37 avg=4.30\n",
            "[20 | 50.34] loss=3.77 avg=4.27\n",
            "[21 | 52.63] loss=3.64 avg=4.24\n",
            "[22 | 54.92] loss=3.87 avg=4.22\n",
            "[23 | 57.20] loss=3.82 avg=4.20\n",
            "[24 | 59.49] loss=4.25 avg=4.20\n",
            "[25 | 61.78] loss=3.88 avg=4.19\n",
            "[26 | 64.07] loss=3.95 avg=4.18\n",
            "[27 | 66.35] loss=3.98 avg=4.17\n",
            "[28 | 68.63] loss=4.00 avg=4.16\n",
            "[29 | 70.91] loss=3.98 avg=4.16\n",
            "[30 | 73.19] loss=3.94 avg=4.15\n",
            "[31 | 75.47] loss=4.23 avg=4.15\n",
            "[32 | 77.74] loss=3.87 avg=4.14\n",
            "[33 | 80.02] loss=4.25 avg=4.15\n",
            "[34 | 82.28] loss=3.81 avg=4.13\n",
            "[35 | 84.57] loss=4.62 avg=4.15\n",
            "[36 | 86.83] loss=3.64 avg=4.13\n",
            "[37 | 89.10] loss=3.88 avg=4.13\n",
            "[38 | 91.36] loss=4.20 avg=4.13\n",
            "[39 | 93.62] loss=3.87 avg=4.12\n",
            "[40 | 95.89] loss=3.84 avg=4.11\n",
            "[41 | 98.16] loss=3.92 avg=4.11\n",
            "[42 | 100.41] loss=4.20 avg=4.11\n",
            "[43 | 102.68] loss=4.10 avg=4.11\n",
            "[44 | 104.95] loss=4.05 avg=4.11\n",
            "[45 | 107.22] loss=4.17 avg=4.11\n",
            "[46 | 109.49] loss=4.17 avg=4.11\n",
            "[47 | 111.77] loss=3.94 avg=4.11\n",
            "[48 | 114.04] loss=4.07 avg=4.10\n",
            "[49 | 116.32] loss=4.02 avg=4.10\n",
            "[50 | 118.60] loss=3.96 avg=4.10\n",
            "[51 | 120.88] loss=4.16 avg=4.10\n",
            "[52 | 123.16] loss=3.95 avg=4.10\n",
            "[53 | 125.43] loss=3.73 avg=4.09\n",
            "[54 | 127.71] loss=4.37 avg=4.09\n",
            "[55 | 129.99] loss=3.96 avg=4.09\n",
            "[56 | 132.27] loss=3.99 avg=4.09\n",
            "[57 | 134.55] loss=4.48 avg=4.10\n",
            "[58 | 136.83] loss=4.00 avg=4.10\n",
            "[59 | 139.12] loss=3.94 avg=4.09\n",
            "[60 | 141.40] loss=3.89 avg=4.09\n",
            "[61 | 143.68] loss=3.85 avg=4.08\n",
            "[62 | 145.96] loss=3.79 avg=4.08\n",
            "[63 | 148.23] loss=4.01 avg=4.07\n",
            "[64 | 150.51] loss=3.74 avg=4.07\n",
            "[65 | 152.79] loss=4.04 avg=4.07\n",
            "[66 | 155.06] loss=3.52 avg=4.06\n",
            "[67 | 157.34] loss=3.74 avg=4.05\n",
            "[68 | 159.62] loss=4.32 avg=4.06\n",
            "[69 | 161.90] loss=4.16 avg=4.06\n",
            "[70 | 164.18] loss=3.85 avg=4.05\n",
            "[71 | 166.45] loss=4.25 avg=4.06\n",
            "[72 | 168.72] loss=3.74 avg=4.05\n",
            "[73 | 170.99] loss=4.22 avg=4.05\n",
            "[74 | 173.27] loss=3.57 avg=4.04\n",
            "[75 | 175.54] loss=3.72 avg=4.04\n",
            "[76 | 177.82] loss=3.65 avg=4.03\n",
            "[77 | 180.09] loss=4.52 avg=4.04\n",
            "[78 | 182.36] loss=4.21 avg=4.04\n",
            "[79 | 184.64] loss=3.64 avg=4.04\n",
            "[80 | 186.91] loss=3.54 avg=4.03\n",
            "[81 | 189.19] loss=3.84 avg=4.02\n",
            "[82 | 191.46] loss=4.19 avg=4.03\n",
            "[83 | 193.73] loss=3.88 avg=4.02\n",
            "[84 | 196.00] loss=3.80 avg=4.02\n",
            "[85 | 198.28] loss=3.90 avg=4.02\n",
            "[86 | 200.56] loss=3.43 avg=4.01\n",
            "[87 | 202.83] loss=4.60 avg=4.02\n",
            "[88 | 205.10] loss=4.05 avg=4.02\n",
            "[89 | 207.37] loss=3.49 avg=4.01\n",
            "[90 | 209.64] loss=4.22 avg=4.01\n",
            "[91 | 211.92] loss=3.99 avg=4.01\n",
            "[92 | 214.19] loss=3.99 avg=4.01\n",
            "[93 | 216.45] loss=3.64 avg=4.01\n",
            "[94 | 218.73] loss=3.97 avg=4.01\n",
            "[95 | 221.00] loss=3.92 avg=4.00\n",
            "[96 | 223.27] loss=3.60 avg=4.00\n",
            "[97 | 225.54] loss=4.17 avg=4.00\n",
            "[98 | 227.81] loss=3.73 avg=4.00\n",
            "[99 | 230.08] loss=3.86 avg=3.99\n",
            "[100 | 232.34] loss=3.98 avg=3.99\n",
            "Saving checkpoint/run_2010s_2/model-100\n",
            "The City of Vancouver has a plan to make the city more welcoming to Canadians.\n",
            "\n",
            "The City of Vancouver has a plan to make the city more welcoming to Canadians. Photo: Chris Matyszczyk, Daniel Burnette and David Johnston The City of Vancouver has a plan to make the city more welcoming to Canadians. Photo: Chris Matyszczyk, Daniel Burnette and David Johnston It's a Heretofore Unusual Thing to Do in Toronto The City of Vancouver has a plan to make the city more welcoming to Canadians. Photo: Chris Matyszczyk, Daniel Burnette and David Johnston City Officials Are Enthusing About the Board's Decision On the Agenda, and Layoffs for the Working Class City Officials Are Enthusing About the Board's Decision On the Agenda, and Layoffs for the Working Class Photo: Chris Matyszczyk, Daniel Burnette and David Johnston The City of Vancouver has a plan to make the city more welcoming to Canadians. It's a Heretofore Unusual Thing to Do in Toronto The City of Vancouver has a plan to make the city more welcoming to Canadians. Photo: Chris Matyszczyk, Daniel Burnette and David Johnston The City of Vancouver has a plan to make the city more welcoming to Canadians. One of Us Is a Good Man, and Two of Us Are Bad: How to Raise the Right Family Blue from the Ashes, for the First Time In a Decade, a Neighborhood in Toronto Is Not the Best Place to Live for a New Age In a Decade, a Neighborhood in Toronto Is Not the Best Place to Live for a New Age Photo: Chris Matyszczyk, Daniel Burnette and David Johnston The City of Vancouver has a plan to make the city more welcoming to Canadians. It's a Heretofore Unusual Thing to Do in Toronto It's a Heretofore Unusual Thing to Do in Toronto It's a Heretofore Unusual Thing to Do in Toronto It's a Heretofore Unusual Thing to Do in Toronto It's a Heretofore Unusual Thing to Do in Toronto It's a Heretofore Unusual Thing to Do in Toronto It's a Heretofore Unusual Thing to Do in Toronto It's a Heretofore Unusual Thing to Do in Toronto It's a Heretofore Unusual Thing to Do in Toronto It's a Heretofore Unusual Thing to Do in Toronto The City of Vancouver has a plan to make the city more welcoming to Canadians. It's a Heretofore Unusual Thing to Do in Toronto It's a Heretofore Unusual Thing to Do in Toronto It's a Heretofore Unusual Thing to Do in Toronto It's a Heretofore Unusual Thing to Do in Toronto It's a Heretofore Unusual Thing to Do in Toronto It's a Heretofore Unusual Thing to Do in Toronto It's a Heretofore Unusual Thing to Do in Toronto It's a Heretofore Unusual Thing to Do in Toronto It's a Heretofore Unusual Thing to Do in Toronto It's a Heretofore Unusual Thing to Do in Toronto It's a Heretofore Unusual Thing to Do in Toronto It's a Heretofore Unusual Thing to Do in Toronto It's a Heretofore Unusual Thing to Do in Toronto It's a Heretofore Unusual Thing to Do in Toronto It's a Heretofore Unusual Thing to Do in Toronto It's a Heretofore Unusual Thing to Do in Toronto It's a Heretofore Unusual Thing to Do in Toronto It's a Heretofore Unusual Thing to Do in Toronto It's a Heretofore Unusual Thing to Do in Toronto It's a Heretofore Unusual Thing to Do in Toronto The City of Vancouver's Plan to Make the City More Welcome to Canadians The City of Vancouver's Plan to Make the City More Welcome to Canadians The City of Vancouver's Plan to Make the City More Welcome to Canadians It's a Heretofore Unusual Thing to Do in Toronto It's a Heretofore Unusual Thing to Do in Toronto It's a Heretofore Unusual Thing to Do in Toronto It's a Heretofore Unusual Thing to Do in Toronto It's a Heretofore Unusual Thing to Do in Toronto It's a Heretofore Unusual Thing to Do in Toronto It's a Heretofore Unusual Thing to Do in Toronto It's a Heretofore Unusual Thing to Do in Toronto It's a Heretofore Unusual Thing to Do in Toronto It's a Heretofore Unusual Thing to Do in Toronto It's a Heretofore Unusual Thing to Do in Toronto It's a Heretofore Unusual Thing to Do in Toronto It's a Heretofore Unusual Thing to Do in Toronto It's a Heretofore Unusual Thing to Do in Toronto It's a Heretofore Unusual Thing to Do in Toronto It's a Heretofore Unusual Thing to Do in Toronto It's a Heretofore Un\n"
          ],
          "name": "stdout"
        }
      ]
    },
    {
      "cell_type": "code",
      "metadata": {
        "id": "mioEVv7qA6mr",
        "colab": {
          "base_uri": "https://localhost:8080/",
          "height": 187
        },
        "outputId": "9ba94d62-ac09-40f7-f98e-79081ec639e7"
      },
      "source": [
        "gpt2.generate(sess, prefix=\"Donald Trump \", return_as_list=True, nsamples=10, length=20, include_prefix=True)"
      ],
      "execution_count": null,
      "outputs": [
        {
          "output_type": "execute_result",
          "data": {
            "text/plain": [
              "['Donald Trump \\xa0\"I\\'ve Been a Republican for 50 Years. I Know What You\\'re Saying. I Just',\n",
              " 'Donald Trump  Next Regency, Art Fiction  French Art Museum Lands First Prize in Fashion Show The Video Game and',\n",
              " \"Donald Trump  The Family  The Full Story  Thanksgiving: a Challenge to New York Today's Scuttlebot\",\n",
              " 'Donald Trump                     ',\n",
              " 'Donald Trump  Advocates for Trump News Feeds in the Schools, the Press and More: September 21, 2017',\n",
              " 'Donald Trump  Fiscal Deficit  Trumpâ\\x80\\x99s Plan for Next Year: What to Expect Trump',\n",
              " 'Donald Trump                     ',\n",
              " 'Donald Trump                     ',\n",
              " 'Donald Trump \\xa0Huge Money Surgeâ\\x80\\x99s Top Financial Adviser Who Has No Business on Wall',\n",
              " 'Donald Trump  Do the Right Thing                ']"
            ]
          },
          "metadata": {
            "tags": []
          },
          "execution_count": 13
        }
      ]
    },
    {
      "cell_type": "code",
      "metadata": {
        "id": "vep8Rn1DBDk-",
        "colab": {
          "base_uri": "https://localhost:8080/",
          "height": 187
        },
        "outputId": "6c4ce4d0-61f4-47d2-a0df-1aca3adb09dc"
      },
      "source": [
        "gpt2.generate(sess, prefix=\"Donald Trump in \", return_as_list=True, nsamples=10, length=20, include_prefix=True)"
      ],
      "execution_count": null,
      "outputs": [
        {
          "output_type": "execute_result",
          "data": {
            "text/plain": [
              "['Donald Trump in ÂSmall Business Leadership and the Politics of Celebrity Successurism Â#MeToo# Rainless',\n",
              " \"Donald Trump in Ã¡¼s Humanity: Boulder's Great Debate in 95 Seconds. Ã¡\",\n",
              " 'Donald Trump in ******** World Cup: How to Make It Happen          ',\n",
              " \"Donald Trump in Ã\\x80\\x9960s | '60s Comedy | '60s Movies | '60\",\n",
              " 'Donald Trump in  Castro Setting a Tone for Christians in Cuba In Cuba, a Season of â\\x80\\x98',\n",
              " 'Donald Trump in Â#MeToo: What Have You Done?#MeToo A.I.G. Says',\n",
              " 'Donald Trump in The Shape of a Trump. I Wish I Was Yours, New York Post This Morning With Its',\n",
              " 'Donald Trump in Ã©cÃ©n La Porte, â\\x80\\x98Révay',\n",
              " 'Donald Trump in Ã\\x80\\x9980s: The Daily Vogue        ',\n",
              " 'Donald Trump in ___________ Donald Trump in ___________\\n\\nThe ___________\\n\\nThe ___________']"
            ]
          },
          "metadata": {
            "tags": []
          },
          "execution_count": 14
        }
      ]
    },
    {
      "cell_type": "code",
      "metadata": {
        "id": "RjIRFeMfCTBN",
        "colab": {
          "base_uri": "https://localhost:8080/",
          "height": 187
        },
        "outputId": "5bda3dd6-8d3d-4935-b7bf-8c2e33b636b7"
      },
      "source": [
        "gpt2.generate(sess, prefix=\"Donald Trump is \", return_as_list=True, nsamples=10, length=20, include_prefix=True)"
      ],
      "execution_count": null,
      "outputs": [
        {
          "output_type": "execute_result",
          "data": {
            "text/plain": [
              "['Donald Trump is uring the next round of the Presidential Race. He is in a Dangerous Wild Wild West. Get Ready',\n",
              " \"Donald Trump is  Blasio's Momentous Revival  Arsenal's Artful Game Is Expected to Hold Up as a Winning\",\n",
              " 'Donald Trump is Ã¡\\x98t a Manâ\\x80\\x99s Enemy. Heâ\\x80',\n",
              " 'Donald Trump is _____: A Special Test of The Celebrity Apprentice  [Sean Hannity Listen: As He Delivers His',\n",
              " 'Donald Trump is ileveling, Is Raising Taxes  During a Tuesday Evening News Briefing, Executive Producer and',\n",
              " 'Donald Trump is \\xa0a Man With a Lifetime \\xa0Werner Weenie, in His 50s,',\n",
              " \"Donald Trump is Ã\\x80\\x99s 'Humper' to Help End Poverty After the Stock Market Crash In\",\n",
              " \"Donald Trump is Ã\\x80\\x99s Rush to Win Weighs the Challenge of Hillary Clinton's Defeat A\",\n",
              " \"Donald Trump is ㅜㅜㅜing America's ㅜㅜing\",\n",
              " \"Donald Trump is _____. Let's Get to Work. There's No Pain in It. #Trump2016 #SN\"]"
            ]
          },
          "metadata": {
            "tags": []
          },
          "execution_count": 15
        }
      ]
    },
    {
      "cell_type": "code",
      "metadata": {
        "id": "lEAC2br4CXXf",
        "colab": {
          "base_uri": "https://localhost:8080/",
          "height": 34
        },
        "outputId": "1988d3dd-d49f-4aa8-b582-aa97e478f8dc"
      },
      "source": [
        "ls checkpoint"
      ],
      "execution_count": null,
      "outputs": [
        {
          "output_type": "stream",
          "text": [
            "\u001b[0m\u001b[01;34mrun1\u001b[0m/  \u001b[01;34mrun_2010s\u001b[0m/  \u001b[01;34mrun_2010s_2\u001b[0m/\n"
          ],
          "name": "stdout"
        }
      ]
    },
    {
      "cell_type": "code",
      "metadata": {
        "id": "Zu-us5dEEs03",
        "colab": {
          "base_uri": "https://localhost:8080/",
          "height": 68
        },
        "outputId": "bd198321-410f-4958-b3f6-cc65b44f178c"
      },
      "source": [
        "!du -h checkpoint"
      ],
      "execution_count": null,
      "outputs": [
        {
          "output_type": "stream",
          "text": [
            "480M\tcheckpoint/run1\n",
            "480M\tcheckpoint/run_2010s_2\n",
            "960M\tcheckpoint\n"
          ],
          "name": "stdout"
        }
      ]
    },
    {
      "cell_type": "code",
      "metadata": {
        "id": "d_pb7WbXEutH"
      },
      "source": [
        "!rm -rf checkpoint/run_2010s"
      ],
      "execution_count": null,
      "outputs": []
    },
    {
      "cell_type": "code",
      "metadata": {
        "id": "PTkU-LQrEyRa",
        "colab": {
          "base_uri": "https://localhost:8080/",
          "height": 374
        },
        "outputId": "9b83a75b-8d06-4380-d0f9-8cc5b6650696"
      },
      "source": [
        "!zip -r checkpoint.zip checkpoint"
      ],
      "execution_count": null,
      "outputs": [
        {
          "output_type": "stream",
          "text": [
            "  adding: checkpoint/ (stored 0%)\n",
            "  adding: checkpoint/run1/ (stored 0%)\n",
            "  adding: checkpoint/run1/hparams.json (deflated 28%)\n",
            "  adding: checkpoint/run1/encoder.json (deflated 67%)\n",
            "  adding: checkpoint/run1/model-100.meta (deflated 91%)\n",
            "  adding: checkpoint/run1/counter (stored 0%)\n",
            "  adding: checkpoint/run1/model-100.index (deflated 62%)\n",
            "  adding: checkpoint/run1/model-100.data-00000-of-00001 (deflated 7%)\n",
            "  adding: checkpoint/run1/vocab.bpe (deflated 53%)\n",
            "  adding: checkpoint/run1/events.out.tfevents.1580514033.54fe8e7ba19d (deflated 56%)\n",
            "  adding: checkpoint/run1/checkpoint (deflated 40%)\n",
            "  adding: checkpoint/run_2010s_2/ (stored 0%)\n",
            "  adding: checkpoint/run_2010s_2/hparams.json (deflated 28%)\n",
            "  adding: checkpoint/run_2010s_2/encoder.json (deflated 67%)\n",
            "  adding: checkpoint/run_2010s_2/model-100.meta (deflated 91%)\n",
            "  adding: checkpoint/run_2010s_2/counter (stored 0%)\n",
            "  adding: checkpoint/run_2010s_2/model-100.index (deflated 62%)\n",
            "  adding: checkpoint/run_2010s_2/events.out.tfevents.1580515207.54fe8e7ba19d (deflated 56%)\n",
            "  adding: checkpoint/run_2010s_2/model-100.data-00000-of-00001 (deflated 7%)\n",
            "  adding: checkpoint/run_2010s_2/vocab.bpe (deflated 53%)\n",
            "  adding: checkpoint/run_2010s_2/checkpoint (deflated 40%)\n"
          ],
          "name": "stdout"
        }
      ]
    },
    {
      "cell_type": "code",
      "metadata": {
        "id": "5gEhnu0GE2qK"
      },
      "source": [
        "from google.colab import files"
      ],
      "execution_count": null,
      "outputs": []
    },
    {
      "cell_type": "code",
      "metadata": {
        "id": "TkcI4kcTFbn1"
      },
      "source": [
        "files.download('checkpoint.zip')\n"
      ],
      "execution_count": null,
      "outputs": []
    },
    {
      "cell_type": "code",
      "metadata": {
        "id": "MvtE9DniFd2O"
      },
      "source": [],
      "execution_count": null,
      "outputs": []
    }
  ]
}